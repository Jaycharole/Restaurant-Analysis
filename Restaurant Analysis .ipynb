{
 "cells": [
  {
   "cell_type": "markdown",
   "id": "60e24500",
   "metadata": {},
   "source": [
    "# Importing the Libraries"
   ]
  },
  {
   "cell_type": "code",
   "execution_count": 9,
   "id": "b597e36d",
   "metadata": {},
   "outputs": [],
   "source": [
    "import matplotlib.pyplot as plt\n",
    "import seaborn as sns\n",
    "import numpy as np\n",
    "import pandas as pd "
   ]
  },
  {
   "cell_type": "markdown",
   "id": "96ed3dab",
   "metadata": {},
   "source": [
    "# Loading the data "
   ]
  },
  {
   "cell_type": "code",
   "execution_count": 5,
   "id": "a1eed02d",
   "metadata": {},
   "outputs": [],
   "source": [
    "df = pd.read_excel('Book1.xlsx')"
   ]
  },
  {
   "cell_type": "code",
   "execution_count": 6,
   "id": "fbf28b67",
   "metadata": {
    "scrolled": true
   },
   "outputs": [
    {
     "data": {
      "text/html": [
       "<style type=\"text/css\">\n",
       "#T_6b77c_row0_col2, #T_6b77c_row1_col2, #T_6b77c_row2_col2, #T_6b77c_row3_col2, #T_6b77c_row4_col2, #T_6b77c_row5_col2, #T_6b77c_row6_col2, #T_6b77c_row7_col2, #T_6b77c_row8_col2, #T_6b77c_row9_col2 {\n",
       "  background-color: #eff9ec;\n",
       "  color: #000000;\n",
       "}\n",
       "#T_6b77c_row0_col10, #T_6b77c_row0_col11, #T_6b77c_row0_col15 {\n",
       "  background-color: #60ba6c;\n",
       "  color: #f1f1f1;\n",
       "}\n",
       "#T_6b77c_row0_col12, #T_6b77c_row0_col13, #T_6b77c_row1_col12, #T_6b77c_row1_col13, #T_6b77c_row2_col12, #T_6b77c_row2_col13, #T_6b77c_row3_col12, #T_6b77c_row3_col13, #T_6b77c_row4_col12, #T_6b77c_row4_col13, #T_6b77c_row5_col12, #T_6b77c_row5_col13, #T_6b77c_row6_col12, #T_6b77c_row6_col13, #T_6b77c_row7_col12, #T_6b77c_row7_col13, #T_6b77c_row8_col12, #T_6b77c_row8_col13, #T_6b77c_row9_col12, #T_6b77c_row9_col13 {\n",
       "  background-color: #f6fcf4;\n",
       "  color: #000000;\n",
       "}\n",
       "#T_6b77c_row0_col16, #T_6b77c_row1_col16, #T_6b77c_row2_col10, #T_6b77c_row2_col11, #T_6b77c_row2_col15, #T_6b77c_row3_col16, #T_6b77c_row4_col16, #T_6b77c_row5_col16, #T_6b77c_row7_col16, #T_6b77c_row8_col16, #T_6b77c_row9_col16 {\n",
       "  background-color: #d3eecd;\n",
       "  color: #000000;\n",
       "}\n",
       "#T_6b77c_row1_col10, #T_6b77c_row1_col11, #T_6b77c_row1_col15, #T_6b77c_row3_col10, #T_6b77c_row3_col11, #T_6b77c_row3_col15, #T_6b77c_row6_col10, #T_6b77c_row6_col11, #T_6b77c_row8_col10, #T_6b77c_row8_col11, #T_6b77c_row8_col15 {\n",
       "  background-color: #73c476;\n",
       "  color: #000000;\n",
       "}\n",
       "#T_6b77c_row2_col16 {\n",
       "  background-color: #f7fcf5;\n",
       "  color: #000000;\n",
       "}\n",
       "#T_6b77c_row4_col10, #T_6b77c_row4_col11, #T_6b77c_row4_col15, #T_6b77c_row7_col10, #T_6b77c_row7_col11, #T_6b77c_row7_col15 {\n",
       "  background-color: #3ba458;\n",
       "  color: #f1f1f1;\n",
       "}\n",
       "#T_6b77c_row5_col10, #T_6b77c_row5_col11, #T_6b77c_row5_col15, #T_6b77c_row9_col10, #T_6b77c_row9_col11, #T_6b77c_row9_col15 {\n",
       "  background-color: #86cc85;\n",
       "  color: #000000;\n",
       "}\n",
       "#T_6b77c_row6_col15 {\n",
       "  background-color: #00441b;\n",
       "  color: #f1f1f1;\n",
       "}\n",
       "#T_6b77c_row6_col16 {\n",
       "  background-color: #98d594;\n",
       "  color: #000000;\n",
       "}\n",
       "</style>\n",
       "<table id=\"T_6b77c_\">\n",
       "  <thead>\n",
       "    <tr>\n",
       "      <th class=\"blank level0\" >&nbsp;</th>\n",
       "      <th class=\"col_heading level0 col0\" >Location name</th>\n",
       "      <th class=\"col_heading level0 col1\" >Register name</th>\n",
       "      <th class=\"col_heading level0 col2\" >Session id</th>\n",
       "      <th class=\"col_heading level0 col3\" >Sale date</th>\n",
       "      <th class=\"col_heading level0 col4\" >Receipt no</th>\n",
       "      <th class=\"col_heading level0 col5\" >Status</th>\n",
       "      <th class=\"col_heading level0 col6\" >Ordertype name</th>\n",
       "      <th class=\"col_heading level0 col7\" >Item name</th>\n",
       "      <th class=\"col_heading level0 col8\" >Variant name</th>\n",
       "      <th class=\"col_heading level0 col9\" >Category name</th>\n",
       "      <th class=\"col_heading level0 col10\" >Selling Per Unit</th>\n",
       "      <th class=\"col_heading level0 col11\" >Selling price</th>\n",
       "      <th class=\"col_heading level0 col12\" >Conversion quantity</th>\n",
       "      <th class=\"col_heading level0 col13\" >Item quantity</th>\n",
       "      <th class=\"col_heading level0 col14\" >Conversion name</th>\n",
       "      <th class=\"col_heading level0 col15\" >Item amount</th>\n",
       "      <th class=\"col_heading level0 col16\" >Sales discount amount</th>\n",
       "    </tr>\n",
       "  </thead>\n",
       "  <tbody>\n",
       "    <tr>\n",
       "      <th id=\"T_6b77c_level0_row0\" class=\"row_heading level0 row0\" >0</th>\n",
       "      <td id=\"T_6b77c_row0_col0\" class=\"data row0 col0\" >Dosa Corner </td>\n",
       "      <td id=\"T_6b77c_row0_col1\" class=\"data row0 col1\" >DosaCornerRegister</td>\n",
       "      <td id=\"T_6b77c_row0_col2\" class=\"data row0 col2\" >11</td>\n",
       "      <td id=\"T_6b77c_row0_col3\" class=\"data row0 col3\" >2022-03-06 18:31:00</td>\n",
       "      <td id=\"T_6b77c_row0_col4\" class=\"data row0 col4\" >BL11</td>\n",
       "      <td id=\"T_6b77c_row0_col5\" class=\"data row0 col5\" >Ordered</td>\n",
       "      <td id=\"T_6b77c_row0_col6\" class=\"data row0 col6\" >Eat in</td>\n",
       "      <td id=\"T_6b77c_row0_col7\" class=\"data row0 col7\" >Paneer Baby Corn Cheese</td>\n",
       "      <td id=\"T_6b77c_row0_col8\" class=\"data row0 col8\" >Regular</td>\n",
       "      <td id=\"T_6b77c_row0_col9\" class=\"data row0 col9\" >Dosa Corner Triples</td>\n",
       "      <td id=\"T_6b77c_row0_col10\" class=\"data row0 col10\" >110</td>\n",
       "      <td id=\"T_6b77c_row0_col11\" class=\"data row0 col11\" >110</td>\n",
       "      <td id=\"T_6b77c_row0_col12\" class=\"data row0 col12\" >1</td>\n",
       "      <td id=\"T_6b77c_row0_col13\" class=\"data row0 col13\" >1</td>\n",
       "      <td id=\"T_6b77c_row0_col14\" class=\"data row0 col14\" >Unit</td>\n",
       "      <td id=\"T_6b77c_row0_col15\" class=\"data row0 col15\" >110</td>\n",
       "      <td id=\"T_6b77c_row0_col16\" class=\"data row0 col16\" >40</td>\n",
       "    </tr>\n",
       "    <tr>\n",
       "      <th id=\"T_6b77c_level0_row1\" class=\"row_heading level0 row1\" >1</th>\n",
       "      <td id=\"T_6b77c_row1_col0\" class=\"data row1 col0\" >Dosa Corner </td>\n",
       "      <td id=\"T_6b77c_row1_col1\" class=\"data row1 col1\" >DosaCornerRegister</td>\n",
       "      <td id=\"T_6b77c_row1_col2\" class=\"data row1 col2\" >11</td>\n",
       "      <td id=\"T_6b77c_row1_col3\" class=\"data row1 col3\" >2022-03-06 18:31:00</td>\n",
       "      <td id=\"T_6b77c_row1_col4\" class=\"data row1 col4\" >BL11</td>\n",
       "      <td id=\"T_6b77c_row1_col5\" class=\"data row1 col5\" >Ordered</td>\n",
       "      <td id=\"T_6b77c_row1_col6\" class=\"data row1 col6\" >Eat in</td>\n",
       "      <td id=\"T_6b77c_row1_col7\" class=\"data row1 col7\" >Dry fruit dosa</td>\n",
       "      <td id=\"T_6b77c_row1_col8\" class=\"data row1 col8\" >Regular</td>\n",
       "      <td id=\"T_6b77c_row1_col9\" class=\"data row1 col9\" >Dosa Corner Vintage</td>\n",
       "      <td id=\"T_6b77c_row1_col10\" class=\"data row1 col10\" >100</td>\n",
       "      <td id=\"T_6b77c_row1_col11\" class=\"data row1 col11\" >100</td>\n",
       "      <td id=\"T_6b77c_row1_col12\" class=\"data row1 col12\" >1</td>\n",
       "      <td id=\"T_6b77c_row1_col13\" class=\"data row1 col13\" >1</td>\n",
       "      <td id=\"T_6b77c_row1_col14\" class=\"data row1 col14\" >Unit</td>\n",
       "      <td id=\"T_6b77c_row1_col15\" class=\"data row1 col15\" >100</td>\n",
       "      <td id=\"T_6b77c_row1_col16\" class=\"data row1 col16\" >40</td>\n",
       "    </tr>\n",
       "    <tr>\n",
       "      <th id=\"T_6b77c_level0_row2\" class=\"row_heading level0 row2\" >2</th>\n",
       "      <td id=\"T_6b77c_row2_col0\" class=\"data row2 col0\" >Dosa Corner </td>\n",
       "      <td id=\"T_6b77c_row2_col1\" class=\"data row2 col1\" >DosaCornerRegister</td>\n",
       "      <td id=\"T_6b77c_row2_col2\" class=\"data row2 col2\" >11</td>\n",
       "      <td id=\"T_6b77c_row2_col3\" class=\"data row2 col3\" >2022-03-06 18:33:00</td>\n",
       "      <td id=\"T_6b77c_row2_col4\" class=\"data row2 col4\" >BL12</td>\n",
       "      <td id=\"T_6b77c_row2_col5\" class=\"data row2 col5\" >Ordered</td>\n",
       "      <td id=\"T_6b77c_row2_col6\" class=\"data row2 col6\" >Eat in</td>\n",
       "      <td id=\"T_6b77c_row2_col7\" class=\"data row2 col7\" >Plain dosa</td>\n",
       "      <td id=\"T_6b77c_row2_col8\" class=\"data row2 col8\" >Regular</td>\n",
       "      <td id=\"T_6b77c_row2_col9\" class=\"data row2 col9\" >Dosa Corner Economy</td>\n",
       "      <td id=\"T_6b77c_row2_col10\" class=\"data row2 col10\" >40</td>\n",
       "      <td id=\"T_6b77c_row2_col11\" class=\"data row2 col11\" >40</td>\n",
       "      <td id=\"T_6b77c_row2_col12\" class=\"data row2 col12\" >1</td>\n",
       "      <td id=\"T_6b77c_row2_col13\" class=\"data row2 col13\" >1</td>\n",
       "      <td id=\"T_6b77c_row2_col14\" class=\"data row2 col14\" >Unit</td>\n",
       "      <td id=\"T_6b77c_row2_col15\" class=\"data row2 col15\" >40</td>\n",
       "      <td id=\"T_6b77c_row2_col16\" class=\"data row2 col16\" >0</td>\n",
       "    </tr>\n",
       "    <tr>\n",
       "      <th id=\"T_6b77c_level0_row3\" class=\"row_heading level0 row3\" >3</th>\n",
       "      <td id=\"T_6b77c_row3_col0\" class=\"data row3 col0\" >Dosa Corner </td>\n",
       "      <td id=\"T_6b77c_row3_col1\" class=\"data row3 col1\" >DosaCornerRegister</td>\n",
       "      <td id=\"T_6b77c_row3_col2\" class=\"data row3 col2\" >11</td>\n",
       "      <td id=\"T_6b77c_row3_col3\" class=\"data row3 col3\" >2022-03-06 18:33:00</td>\n",
       "      <td id=\"T_6b77c_row3_col4\" class=\"data row3 col4\" >BL12</td>\n",
       "      <td id=\"T_6b77c_row3_col5\" class=\"data row3 col5\" >Ordered</td>\n",
       "      <td id=\"T_6b77c_row3_col6\" class=\"data row3 col6\" >Eat in</td>\n",
       "      <td id=\"T_6b77c_row3_col7\" class=\"data row3 col7\" >Pizza dosa</td>\n",
       "      <td id=\"T_6b77c_row3_col8\" class=\"data row3 col8\" >Regular</td>\n",
       "      <td id=\"T_6b77c_row3_col9\" class=\"data row3 col9\" >Dosa Corner Vintage</td>\n",
       "      <td id=\"T_6b77c_row3_col10\" class=\"data row3 col10\" >100</td>\n",
       "      <td id=\"T_6b77c_row3_col11\" class=\"data row3 col11\" >100</td>\n",
       "      <td id=\"T_6b77c_row3_col12\" class=\"data row3 col12\" >1</td>\n",
       "      <td id=\"T_6b77c_row3_col13\" class=\"data row3 col13\" >1</td>\n",
       "      <td id=\"T_6b77c_row3_col14\" class=\"data row3 col14\" >Unit</td>\n",
       "      <td id=\"T_6b77c_row3_col15\" class=\"data row3 col15\" >100</td>\n",
       "      <td id=\"T_6b77c_row3_col16\" class=\"data row3 col16\" >40</td>\n",
       "    </tr>\n",
       "    <tr>\n",
       "      <th id=\"T_6b77c_level0_row4\" class=\"row_heading level0 row4\" >4</th>\n",
       "      <td id=\"T_6b77c_row4_col0\" class=\"data row4 col0\" >Dosa Corner </td>\n",
       "      <td id=\"T_6b77c_row4_col1\" class=\"data row4 col1\" >DosaCornerRegister</td>\n",
       "      <td id=\"T_6b77c_row4_col2\" class=\"data row4 col2\" >11</td>\n",
       "      <td id=\"T_6b77c_row4_col3\" class=\"data row4 col3\" >2022-03-06 18:33:00</td>\n",
       "      <td id=\"T_6b77c_row4_col4\" class=\"data row4 col4\" >BL12</td>\n",
       "      <td id=\"T_6b77c_row4_col5\" class=\"data row4 col5\" >Ordered</td>\n",
       "      <td id=\"T_6b77c_row4_col6\" class=\"data row4 col6\" >Eat in</td>\n",
       "      <td id=\"T_6b77c_row4_col7\" class=\"data row4 col7\" >Paneer chinese mushroom</td>\n",
       "      <td id=\"T_6b77c_row4_col8\" class=\"data row4 col8\" >Regular</td>\n",
       "      <td id=\"T_6b77c_row4_col9\" class=\"data row4 col9\" >Dosa Corner Special</td>\n",
       "      <td id=\"T_6b77c_row4_col10\" class=\"data row4 col10\" >130</td>\n",
       "      <td id=\"T_6b77c_row4_col11\" class=\"data row4 col11\" >130</td>\n",
       "      <td id=\"T_6b77c_row4_col12\" class=\"data row4 col12\" >1</td>\n",
       "      <td id=\"T_6b77c_row4_col13\" class=\"data row4 col13\" >1</td>\n",
       "      <td id=\"T_6b77c_row4_col14\" class=\"data row4 col14\" >Unit</td>\n",
       "      <td id=\"T_6b77c_row4_col15\" class=\"data row4 col15\" >130</td>\n",
       "      <td id=\"T_6b77c_row4_col16\" class=\"data row4 col16\" >40</td>\n",
       "    </tr>\n",
       "    <tr>\n",
       "      <th id=\"T_6b77c_level0_row5\" class=\"row_heading level0 row5\" >5</th>\n",
       "      <td id=\"T_6b77c_row5_col0\" class=\"data row5 col0\" >Dosa Corner </td>\n",
       "      <td id=\"T_6b77c_row5_col1\" class=\"data row5 col1\" >DosaCornerRegister</td>\n",
       "      <td id=\"T_6b77c_row5_col2\" class=\"data row5 col2\" >11</td>\n",
       "      <td id=\"T_6b77c_row5_col3\" class=\"data row5 col3\" >2022-03-06 18:33:00</td>\n",
       "      <td id=\"T_6b77c_row5_col4\" class=\"data row5 col4\" >BL12</td>\n",
       "      <td id=\"T_6b77c_row5_col5\" class=\"data row5 col5\" >Ordered</td>\n",
       "      <td id=\"T_6b77c_row5_col6\" class=\"data row5 col6\" >Eat in</td>\n",
       "      <td id=\"T_6b77c_row5_col7\" class=\"data row5 col7\" >Schezwan chinese dosa</td>\n",
       "      <td id=\"T_6b77c_row5_col8\" class=\"data row5 col8\" >Regular</td>\n",
       "      <td id=\"T_6b77c_row5_col9\" class=\"data row5 col9\" >Dosa Corner Schezwan</td>\n",
       "      <td id=\"T_6b77c_row5_col10\" class=\"data row5 col10\" >90</td>\n",
       "      <td id=\"T_6b77c_row5_col11\" class=\"data row5 col11\" >90</td>\n",
       "      <td id=\"T_6b77c_row5_col12\" class=\"data row5 col12\" >1</td>\n",
       "      <td id=\"T_6b77c_row5_col13\" class=\"data row5 col13\" >1</td>\n",
       "      <td id=\"T_6b77c_row5_col14\" class=\"data row5 col14\" >Unit</td>\n",
       "      <td id=\"T_6b77c_row5_col15\" class=\"data row5 col15\" >90</td>\n",
       "      <td id=\"T_6b77c_row5_col16\" class=\"data row5 col16\" >40</td>\n",
       "    </tr>\n",
       "    <tr>\n",
       "      <th id=\"T_6b77c_level0_row6\" class=\"row_heading level0 row6\" >6</th>\n",
       "      <td id=\"T_6b77c_row6_col0\" class=\"data row6 col0\" >Dosa Corner </td>\n",
       "      <td id=\"T_6b77c_row6_col1\" class=\"data row6 col1\" >DosaCornerRegister</td>\n",
       "      <td id=\"T_6b77c_row6_col2\" class=\"data row6 col2\" >11</td>\n",
       "      <td id=\"T_6b77c_row6_col3\" class=\"data row6 col3\" >2022-03-06 18:33:00</td>\n",
       "      <td id=\"T_6b77c_row6_col4\" class=\"data row6 col4\" >BL12</td>\n",
       "      <td id=\"T_6b77c_row6_col5\" class=\"data row6 col5\" >Ordered</td>\n",
       "      <td id=\"T_6b77c_row6_col6\" class=\"data row6 col6\" >Eat in</td>\n",
       "      <td id=\"T_6b77c_row6_col7\" class=\"data row6 col7\" >Mushroom chilli cheese</td>\n",
       "      <td id=\"T_6b77c_row6_col8\" class=\"data row6 col8\" >Regular</td>\n",
       "      <td id=\"T_6b77c_row6_col9\" class=\"data row6 col9\" >Dosa Corner Chilli Cheese</td>\n",
       "      <td id=\"T_6b77c_row6_col10\" class=\"data row6 col10\" >100</td>\n",
       "      <td id=\"T_6b77c_row6_col11\" class=\"data row6 col11\" >100</td>\n",
       "      <td id=\"T_6b77c_row6_col12\" class=\"data row6 col12\" >2</td>\n",
       "      <td id=\"T_6b77c_row6_col13\" class=\"data row6 col13\" >2</td>\n",
       "      <td id=\"T_6b77c_row6_col14\" class=\"data row6 col14\" >Unit</td>\n",
       "      <td id=\"T_6b77c_row6_col15\" class=\"data row6 col15\" >200</td>\n",
       "      <td id=\"T_6b77c_row6_col16\" class=\"data row6 col16\" >80</td>\n",
       "    </tr>\n",
       "    <tr>\n",
       "      <th id=\"T_6b77c_level0_row7\" class=\"row_heading level0 row7\" >7</th>\n",
       "      <td id=\"T_6b77c_row7_col0\" class=\"data row7 col0\" >Dosa Corner </td>\n",
       "      <td id=\"T_6b77c_row7_col1\" class=\"data row7 col1\" >DosaCornerRegister</td>\n",
       "      <td id=\"T_6b77c_row7_col2\" class=\"data row7 col2\" >11</td>\n",
       "      <td id=\"T_6b77c_row7_col3\" class=\"data row7 col3\" >2022-03-06 20:23:00</td>\n",
       "      <td id=\"T_6b77c_row7_col4\" class=\"data row7 col4\" >BL13</td>\n",
       "      <td id=\"T_6b77c_row7_col5\" class=\"data row7 col5\" >Ordered</td>\n",
       "      <td id=\"T_6b77c_row7_col6\" class=\"data row7 col6\" >Eat in</td>\n",
       "      <td id=\"T_6b77c_row7_col7\" class=\"data row7 col7\" >Paneer chinese mushroom</td>\n",
       "      <td id=\"T_6b77c_row7_col8\" class=\"data row7 col8\" >Regular</td>\n",
       "      <td id=\"T_6b77c_row7_col9\" class=\"data row7 col9\" >Dosa Corner Special</td>\n",
       "      <td id=\"T_6b77c_row7_col10\" class=\"data row7 col10\" >130</td>\n",
       "      <td id=\"T_6b77c_row7_col11\" class=\"data row7 col11\" >130</td>\n",
       "      <td id=\"T_6b77c_row7_col12\" class=\"data row7 col12\" >1</td>\n",
       "      <td id=\"T_6b77c_row7_col13\" class=\"data row7 col13\" >1</td>\n",
       "      <td id=\"T_6b77c_row7_col14\" class=\"data row7 col14\" >Unit</td>\n",
       "      <td id=\"T_6b77c_row7_col15\" class=\"data row7 col15\" >130</td>\n",
       "      <td id=\"T_6b77c_row7_col16\" class=\"data row7 col16\" >40</td>\n",
       "    </tr>\n",
       "    <tr>\n",
       "      <th id=\"T_6b77c_level0_row8\" class=\"row_heading level0 row8\" >8</th>\n",
       "      <td id=\"T_6b77c_row8_col0\" class=\"data row8 col0\" >Dosa Corner </td>\n",
       "      <td id=\"T_6b77c_row8_col1\" class=\"data row8 col1\" >DosaCornerRegister</td>\n",
       "      <td id=\"T_6b77c_row8_col2\" class=\"data row8 col2\" >11</td>\n",
       "      <td id=\"T_6b77c_row8_col3\" class=\"data row8 col3\" >2022-03-06 20:23:00</td>\n",
       "      <td id=\"T_6b77c_row8_col4\" class=\"data row8 col4\" >BL13</td>\n",
       "      <td id=\"T_6b77c_row8_col5\" class=\"data row8 col5\" >Ordered</td>\n",
       "      <td id=\"T_6b77c_row8_col6\" class=\"data row8 col6\" >Eat in</td>\n",
       "      <td id=\"T_6b77c_row8_col7\" class=\"data row8 col7\" >Pizza dosa</td>\n",
       "      <td id=\"T_6b77c_row8_col8\" class=\"data row8 col8\" >Regular</td>\n",
       "      <td id=\"T_6b77c_row8_col9\" class=\"data row8 col9\" >Dosa Corner Vintage</td>\n",
       "      <td id=\"T_6b77c_row8_col10\" class=\"data row8 col10\" >100</td>\n",
       "      <td id=\"T_6b77c_row8_col11\" class=\"data row8 col11\" >100</td>\n",
       "      <td id=\"T_6b77c_row8_col12\" class=\"data row8 col12\" >1</td>\n",
       "      <td id=\"T_6b77c_row8_col13\" class=\"data row8 col13\" >1</td>\n",
       "      <td id=\"T_6b77c_row8_col14\" class=\"data row8 col14\" >Unit</td>\n",
       "      <td id=\"T_6b77c_row8_col15\" class=\"data row8 col15\" >100</td>\n",
       "      <td id=\"T_6b77c_row8_col16\" class=\"data row8 col16\" >40</td>\n",
       "    </tr>\n",
       "    <tr>\n",
       "      <th id=\"T_6b77c_level0_row9\" class=\"row_heading level0 row9\" >9</th>\n",
       "      <td id=\"T_6b77c_row9_col0\" class=\"data row9 col0\" >Dosa Corner </td>\n",
       "      <td id=\"T_6b77c_row9_col1\" class=\"data row9 col1\" >DosaCornerRegister</td>\n",
       "      <td id=\"T_6b77c_row9_col2\" class=\"data row9 col2\" >11</td>\n",
       "      <td id=\"T_6b77c_row9_col3\" class=\"data row9 col3\" >2022-03-06 20:23:00</td>\n",
       "      <td id=\"T_6b77c_row9_col4\" class=\"data row9 col4\" >BL13</td>\n",
       "      <td id=\"T_6b77c_row9_col5\" class=\"data row9 col5\" >Ordered</td>\n",
       "      <td id=\"T_6b77c_row9_col6\" class=\"data row9 col6\" >Eat in</td>\n",
       "      <td id=\"T_6b77c_row9_col7\" class=\"data row9 col7\" >Gobi cheese</td>\n",
       "      <td id=\"T_6b77c_row9_col8\" class=\"data row9 col8\" >Regular</td>\n",
       "      <td id=\"T_6b77c_row9_col9\" class=\"data row9 col9\" >Dosa Corner Doubles</td>\n",
       "      <td id=\"T_6b77c_row9_col10\" class=\"data row9 col10\" >90</td>\n",
       "      <td id=\"T_6b77c_row9_col11\" class=\"data row9 col11\" >90</td>\n",
       "      <td id=\"T_6b77c_row9_col12\" class=\"data row9 col12\" >1</td>\n",
       "      <td id=\"T_6b77c_row9_col13\" class=\"data row9 col13\" >1</td>\n",
       "      <td id=\"T_6b77c_row9_col14\" class=\"data row9 col14\" >Unit</td>\n",
       "      <td id=\"T_6b77c_row9_col15\" class=\"data row9 col15\" >90</td>\n",
       "      <td id=\"T_6b77c_row9_col16\" class=\"data row9 col16\" >40</td>\n",
       "    </tr>\n",
       "  </tbody>\n",
       "</table>\n"
      ],
      "text/plain": [
       "<pandas.io.formats.style.Styler at 0x1eb693fa640>"
      ]
     },
     "execution_count": 6,
     "metadata": {},
     "output_type": "execute_result"
    }
   ],
   "source": [
    "df.head(10).style.background_gradient(cmap='Greens',axis=None)"
   ]
  },
  {
   "cell_type": "markdown",
   "id": "6b337135",
   "metadata": {},
   "source": [
    "# Basic EDA "
   ]
  },
  {
   "cell_type": "code",
   "execution_count": 4,
   "id": "082d8fb3",
   "metadata": {},
   "outputs": [
    {
     "data": {
      "text/plain": [
       "Location name                    object\n",
       "Register name                    object\n",
       "Session id                        int64\n",
       "Sale date                datetime64[ns]\n",
       "Receipt no                       object\n",
       "Status                           object\n",
       "Ordertype name                   object\n",
       "Item name                        object\n",
       "Variant name                     object\n",
       "Category name                    object\n",
       "Selling Per Unit                  int64\n",
       "Selling price                     int64\n",
       "Conversion quantity               int64\n",
       "Item quantity                     int64\n",
       "Conversion name                  object\n",
       "Item amount                       int64\n",
       "Sales discount amount             int64\n",
       "dtype: object"
      ]
     },
     "execution_count": 4,
     "metadata": {},
     "output_type": "execute_result"
    }
   ],
   "source": [
    "df.dtypes "
   ]
  },
  {
   "cell_type": "markdown",
   "id": "0e1cc69c",
   "metadata": {},
   "source": [
    "**`Observation:`**\n",
    "Here we can understand what are the datatypes present in the columns"
   ]
  },
  {
   "cell_type": "code",
   "execution_count": 7,
   "id": "9d6e5e92",
   "metadata": {},
   "outputs": [
    {
     "data": {
      "text/plain": [
       "(541, 17)"
      ]
     },
     "execution_count": 7,
     "metadata": {},
     "output_type": "execute_result"
    }
   ],
   "source": [
    "df.shape "
   ]
  },
  {
   "cell_type": "markdown",
   "id": "4dffca53",
   "metadata": {},
   "source": [
    "**`Observation`**: Rows and Columns present in the data, we have 541 Rows and 17 Columns present in the data "
   ]
  },
  {
   "cell_type": "code",
   "execution_count": 8,
   "id": "563d44ad",
   "metadata": {},
   "outputs": [
    {
     "data": {
      "text/html": [
       "<style type=\"text/css\">\n",
       "#T_cce60_row0_col0, #T_cce60_row0_col1, #T_cce60_row0_col2, #T_cce60_row0_col3, #T_cce60_row0_col4, #T_cce60_row0_col5, #T_cce60_row0_col6 {\n",
       "  background-color: #00441b;\n",
       "  color: #f1f1f1;\n",
       "}\n",
       "#T_cce60_row1_col0, #T_cce60_row1_col6, #T_cce60_row2_col1, #T_cce60_row2_col2, #T_cce60_row2_col6, #T_cce60_row5_col0 {\n",
       "  background-color: #f1faee;\n",
       "  color: #000000;\n",
       "}\n",
       "#T_cce60_row1_col1, #T_cce60_row1_col2, #T_cce60_row5_col1, #T_cce60_row5_col2, #T_cce60_row5_col5 {\n",
       "  background-color: #dbf1d6;\n",
       "  color: #000000;\n",
       "}\n",
       "#T_cce60_row1_col3, #T_cce60_row1_col4, #T_cce60_row2_col3, #T_cce60_row2_col4, #T_cce60_row3_col3, #T_cce60_row3_col4, #T_cce60_row3_col6, #T_cce60_row4_col3, #T_cce60_row4_col4, #T_cce60_row4_col6, #T_cce60_row5_col3, #T_cce60_row5_col4, #T_cce60_row6_col3, #T_cce60_row6_col4 {\n",
       "  background-color: #f7fcf5;\n",
       "  color: #000000;\n",
       "}\n",
       "#T_cce60_row1_col5 {\n",
       "  background-color: #d9f0d3;\n",
       "  color: #000000;\n",
       "}\n",
       "#T_cce60_row2_col0 {\n",
       "  background-color: #f5fbf3;\n",
       "  color: #000000;\n",
       "}\n",
       "#T_cce60_row2_col5 {\n",
       "  background-color: #eff9eb;\n",
       "  color: #000000;\n",
       "}\n",
       "#T_cce60_row3_col0 {\n",
       "  background-color: #f4fbf2;\n",
       "  color: #000000;\n",
       "}\n",
       "#T_cce60_row3_col1, #T_cce60_row3_col2, #T_cce60_row3_col5, #T_cce60_row5_col6, #T_cce60_row6_col6 {\n",
       "  background-color: #edf8e9;\n",
       "  color: #000000;\n",
       "}\n",
       "#T_cce60_row4_col0 {\n",
       "  background-color: #f3faf0;\n",
       "  color: #000000;\n",
       "}\n",
       "#T_cce60_row4_col1, #T_cce60_row4_col2, #T_cce60_row4_col5 {\n",
       "  background-color: #e0f3db;\n",
       "  color: #000000;\n",
       "}\n",
       "#T_cce60_row6_col0 {\n",
       "  background-color: #f0f9ec;\n",
       "  color: #000000;\n",
       "}\n",
       "#T_cce60_row6_col1, #T_cce60_row6_col2, #T_cce60_row6_col5 {\n",
       "  background-color: #d7efd1;\n",
       "  color: #000000;\n",
       "}\n",
       "#T_cce60_row7_col0 {\n",
       "  background-color: #eef8ea;\n",
       "  color: #000000;\n",
       "}\n",
       "#T_cce60_row7_col1, #T_cce60_row7_col2 {\n",
       "  background-color: #c4e8bd;\n",
       "  color: #000000;\n",
       "}\n",
       "#T_cce60_row7_col3, #T_cce60_row7_col4 {\n",
       "  background-color: #f6fcf4;\n",
       "  color: #000000;\n",
       "}\n",
       "#T_cce60_row7_col5 {\n",
       "  background-color: #5eb96b;\n",
       "  color: #f1f1f1;\n",
       "}\n",
       "#T_cce60_row7_col6 {\n",
       "  background-color: #ceecc8;\n",
       "  color: #000000;\n",
       "}\n",
       "</style>\n",
       "<table id=\"T_cce60_\">\n",
       "  <thead>\n",
       "    <tr>\n",
       "      <th class=\"blank level0\" >&nbsp;</th>\n",
       "      <th class=\"col_heading level0 col0\" >Session id</th>\n",
       "      <th class=\"col_heading level0 col1\" >Selling Per Unit</th>\n",
       "      <th class=\"col_heading level0 col2\" >Selling price</th>\n",
       "      <th class=\"col_heading level0 col3\" >Conversion quantity</th>\n",
       "      <th class=\"col_heading level0 col4\" >Item quantity</th>\n",
       "      <th class=\"col_heading level0 col5\" >Item amount</th>\n",
       "      <th class=\"col_heading level0 col6\" >Sales discount amount</th>\n",
       "    </tr>\n",
       "  </thead>\n",
       "  <tbody>\n",
       "    <tr>\n",
       "      <th id=\"T_cce60_level0_row0\" class=\"row_heading level0 row0\" >count</th>\n",
       "      <td id=\"T_cce60_row0_col0\" class=\"data row0 col0\" >541.000000</td>\n",
       "      <td id=\"T_cce60_row0_col1\" class=\"data row0 col1\" >541.000000</td>\n",
       "      <td id=\"T_cce60_row0_col2\" class=\"data row0 col2\" >541.000000</td>\n",
       "      <td id=\"T_cce60_row0_col3\" class=\"data row0 col3\" >541.000000</td>\n",
       "      <td id=\"T_cce60_row0_col4\" class=\"data row0 col4\" >541.000000</td>\n",
       "      <td id=\"T_cce60_row0_col5\" class=\"data row0 col5\" >541.000000</td>\n",
       "      <td id=\"T_cce60_row0_col6\" class=\"data row0 col6\" >541.000000</td>\n",
       "    </tr>\n",
       "    <tr>\n",
       "      <th id=\"T_cce60_level0_row1\" class=\"row_heading level0 row1\" >mean</th>\n",
       "      <td id=\"T_cce60_row1_col0\" class=\"data row1 col0\" >23.704251</td>\n",
       "      <td id=\"T_cce60_row1_col1\" class=\"data row1 col1\" >90.499076</td>\n",
       "      <td id=\"T_cce60_row1_col2\" class=\"data row1 col2\" >90.499076</td>\n",
       "      <td id=\"T_cce60_row1_col3\" class=\"data row1 col3\" >1.083179</td>\n",
       "      <td id=\"T_cce60_row1_col4\" class=\"data row1 col4\" >1.083179</td>\n",
       "      <td id=\"T_cce60_row1_col5\" class=\"data row1 col5\" >97.116451</td>\n",
       "      <td id=\"T_cce60_row1_col6\" class=\"data row1 col6\" >24.343808</td>\n",
       "    </tr>\n",
       "    <tr>\n",
       "      <th id=\"T_cce60_level0_row2\" class=\"row_heading level0 row2\" >std</th>\n",
       "      <td id=\"T_cce60_row2_col0\" class=\"data row2 col0\" >6.458798</td>\n",
       "      <td id=\"T_cce60_row2_col1\" class=\"data row2 col1\" >21.281415</td>\n",
       "      <td id=\"T_cce60_row2_col2\" class=\"data row2 col2\" >21.281415</td>\n",
       "      <td id=\"T_cce60_row2_col3\" class=\"data row2 col3\" >0.308091</td>\n",
       "      <td id=\"T_cce60_row2_col4\" class=\"data row2 col4\" >0.308091</td>\n",
       "      <td id=\"T_cce60_row2_col5\" class=\"data row2 col5\" >33.424920</td>\n",
       "      <td id=\"T_cce60_row2_col6\" class=\"data row2 col6\" >23.043439</td>\n",
       "    </tr>\n",
       "    <tr>\n",
       "      <th id=\"T_cce60_level0_row3\" class=\"row_heading level0 row3\" >min</th>\n",
       "      <td id=\"T_cce60_row3_col0\" class=\"data row3 col0\" >11.000000</td>\n",
       "      <td id=\"T_cce60_row3_col1\" class=\"data row3 col1\" >40.000000</td>\n",
       "      <td id=\"T_cce60_row3_col2\" class=\"data row3 col2\" >40.000000</td>\n",
       "      <td id=\"T_cce60_row3_col3\" class=\"data row3 col3\" >1.000000</td>\n",
       "      <td id=\"T_cce60_row3_col4\" class=\"data row3 col4\" >1.000000</td>\n",
       "      <td id=\"T_cce60_row3_col5\" class=\"data row3 col5\" >40.000000</td>\n",
       "      <td id=\"T_cce60_row3_col6\" class=\"data row3 col6\" >0.000000</td>\n",
       "    </tr>\n",
       "    <tr>\n",
       "      <th id=\"T_cce60_level0_row4\" class=\"row_heading level0 row4\" >25%</th>\n",
       "      <td id=\"T_cce60_row4_col0\" class=\"data row4 col0\" >16.000000</td>\n",
       "      <td id=\"T_cce60_row4_col1\" class=\"data row4 col1\" >80.000000</td>\n",
       "      <td id=\"T_cce60_row4_col2\" class=\"data row4 col2\" >80.000000</td>\n",
       "      <td id=\"T_cce60_row4_col3\" class=\"data row4 col3\" >1.000000</td>\n",
       "      <td id=\"T_cce60_row4_col4\" class=\"data row4 col4\" >1.000000</td>\n",
       "      <td id=\"T_cce60_row4_col5\" class=\"data row4 col5\" >80.000000</td>\n",
       "      <td id=\"T_cce60_row4_col6\" class=\"data row4 col6\" >0.000000</td>\n",
       "    </tr>\n",
       "    <tr>\n",
       "      <th id=\"T_cce60_level0_row5\" class=\"row_heading level0 row5\" >50%</th>\n",
       "      <td id=\"T_cce60_row5_col0\" class=\"data row5 col0\" >24.000000</td>\n",
       "      <td id=\"T_cce60_row5_col1\" class=\"data row5 col1\" >90.000000</td>\n",
       "      <td id=\"T_cce60_row5_col2\" class=\"data row5 col2\" >90.000000</td>\n",
       "      <td id=\"T_cce60_row5_col3\" class=\"data row5 col3\" >1.000000</td>\n",
       "      <td id=\"T_cce60_row5_col4\" class=\"data row5 col4\" >1.000000</td>\n",
       "      <td id=\"T_cce60_row5_col5\" class=\"data row5 col5\" >90.000000</td>\n",
       "      <td id=\"T_cce60_row5_col6\" class=\"data row5 col6\" >40.000000</td>\n",
       "    </tr>\n",
       "    <tr>\n",
       "      <th id=\"T_cce60_level0_row6\" class=\"row_heading level0 row6\" >75%</th>\n",
       "      <td id=\"T_cce60_row6_col0\" class=\"data row6 col0\" >29.000000</td>\n",
       "      <td id=\"T_cce60_row6_col1\" class=\"data row6 col1\" >100.000000</td>\n",
       "      <td id=\"T_cce60_row6_col2\" class=\"data row6 col2\" >100.000000</td>\n",
       "      <td id=\"T_cce60_row6_col3\" class=\"data row6 col3\" >1.000000</td>\n",
       "      <td id=\"T_cce60_row6_col4\" class=\"data row6 col4\" >1.000000</td>\n",
       "      <td id=\"T_cce60_row6_col5\" class=\"data row6 col5\" >100.000000</td>\n",
       "      <td id=\"T_cce60_row6_col6\" class=\"data row6 col6\" >40.000000</td>\n",
       "    </tr>\n",
       "    <tr>\n",
       "      <th id=\"T_cce60_level0_row7\" class=\"row_heading level0 row7\" >max</th>\n",
       "      <td id=\"T_cce60_row7_col0\" class=\"data row7 col0\" >35.000000</td>\n",
       "      <td id=\"T_cce60_row7_col1\" class=\"data row7 col1\" >140.000000</td>\n",
       "      <td id=\"T_cce60_row7_col2\" class=\"data row7 col2\" >140.000000</td>\n",
       "      <td id=\"T_cce60_row7_col3\" class=\"data row7 col3\" >3.000000</td>\n",
       "      <td id=\"T_cce60_row7_col4\" class=\"data row7 col4\" >3.000000</td>\n",
       "      <td id=\"T_cce60_row7_col5\" class=\"data row7 col5\" >300.000000</td>\n",
       "      <td id=\"T_cce60_row7_col6\" class=\"data row7 col6\" >120.000000</td>\n",
       "    </tr>\n",
       "  </tbody>\n",
       "</table>\n"
      ],
      "text/plain": [
       "<pandas.io.formats.style.Styler at 0x1eb65f56c70>"
      ]
     },
     "execution_count": 8,
     "metadata": {},
     "output_type": "execute_result"
    }
   ],
   "source": [
    "df.describe().style.background_gradient(cmap='Greens',axis=None)"
   ]
  },
  {
   "cell_type": "markdown",
   "id": "e94ffdbd",
   "metadata": {},
   "source": [
    "**`Observation`**: Here we can get a good understanding of the descriptive statistics with columns having numeric values"
   ]
  },
  {
   "cell_type": "code",
   "execution_count": 7,
   "id": "26932d44",
   "metadata": {
    "scrolled": true
   },
   "outputs": [
    {
     "name": "stdout",
     "output_type": "stream",
     "text": [
      "<class 'pandas.core.frame.DataFrame'>\n",
      "RangeIndex: 541 entries, 0 to 540\n",
      "Data columns (total 17 columns):\n",
      " #   Column                 Non-Null Count  Dtype         \n",
      "---  ------                 --------------  -----         \n",
      " 0   Location name          541 non-null    object        \n",
      " 1   Register name          541 non-null    object        \n",
      " 2   Session id             541 non-null    int64         \n",
      " 3   Sale date              541 non-null    datetime64[ns]\n",
      " 4   Receipt no             541 non-null    object        \n",
      " 5   Status                 541 non-null    object        \n",
      " 6   Ordertype name         541 non-null    object        \n",
      " 7   Item name              541 non-null    object        \n",
      " 8   Variant name           541 non-null    object        \n",
      " 9   Category name          541 non-null    object        \n",
      " 10  Selling Per Unit       541 non-null    int64         \n",
      " 11  Selling price          541 non-null    int64         \n",
      " 12  Conversion quantity    541 non-null    int64         \n",
      " 13  Item quantity          541 non-null    int64         \n",
      " 14  Conversion name        541 non-null    object        \n",
      " 15  Item amount            541 non-null    int64         \n",
      " 16  Sales discount amount  541 non-null    int64         \n",
      "dtypes: datetime64[ns](1), int64(7), object(9)\n",
      "memory usage: 72.0+ KB\n"
     ]
    }
   ],
   "source": [
    "# Basic information regarding the data types \n",
    "\n",
    "df.info() "
   ]
  },
  {
   "cell_type": "markdown",
   "id": "d22021c1",
   "metadata": {},
   "source": [
    "**`Observation`**:This method prints information about a DataFrame including\n",
    "the index dtype and columns, non-null values and memory usage."
   ]
  },
  {
   "cell_type": "code",
   "execution_count": 11,
   "id": "e2828157",
   "metadata": {},
   "outputs": [
    {
     "data": {
      "text/plain": [
       "Index(['Location name', 'Register name', 'Session id', 'Sale date',\n",
       "       'Receipt no', 'Status', 'Ordertype name', 'Item name', 'Variant name',\n",
       "       'Category name', 'Selling Per Unit', 'Selling price',\n",
       "       'Conversion quantity', 'Item quantity', 'Conversion name',\n",
       "       'Item amount', 'Sales discount amount'],\n",
       "      dtype='object')"
      ]
     },
     "execution_count": 11,
     "metadata": {},
     "output_type": "execute_result"
    }
   ],
   "source": [
    "# Column names present in the dataset\n",
    "\n",
    "df.columns"
   ]
  },
  {
   "cell_type": "code",
   "execution_count": 9,
   "id": "408da159",
   "metadata": {},
   "outputs": [
    {
     "data": {
      "text/plain": [
       "17"
      ]
     },
     "execution_count": 9,
     "metadata": {},
     "output_type": "execute_result"
    }
   ],
   "source": [
    "len(df.columns) #length of the columns present "
   ]
  },
  {
   "cell_type": "code",
   "execution_count": 10,
   "id": "9ed66051",
   "metadata": {},
   "outputs": [
    {
     "data": {
      "text/plain": [
       "541"
      ]
     },
     "execution_count": 10,
     "metadata": {},
     "output_type": "execute_result"
    }
   ],
   "source": [
    "len(df) # Length of the data"
   ]
  },
  {
   "cell_type": "code",
   "execution_count": 11,
   "id": "327e2ab1",
   "metadata": {},
   "outputs": [
    {
     "data": {
      "text/plain": [
       "Location name            0\n",
       "Register name            0\n",
       "Session id               0\n",
       "Sale date                0\n",
       "Receipt no               0\n",
       "Status                   0\n",
       "Ordertype name           0\n",
       "Item name                0\n",
       "Variant name             0\n",
       "Category name            0\n",
       "Selling Per Unit         0\n",
       "Selling price            0\n",
       "Conversion quantity      0\n",
       "Item quantity            0\n",
       "Conversion name          0\n",
       "Item amount              0\n",
       "Sales discount amount    0\n",
       "dtype: int64"
      ]
     },
     "execution_count": 11,
     "metadata": {},
     "output_type": "execute_result"
    }
   ],
   "source": [
    "# Checking for the Null Values if present any\n",
    "\n",
    "df.isnull().sum() "
   ]
  },
  {
   "cell_type": "markdown",
   "id": "cc7adf7e",
   "metadata": {},
   "source": [
    "**`Observation`** As you can see no null values are present in our dataset, Our Data is clean ready for our further analysis"
   ]
  },
  {
   "cell_type": "code",
   "execution_count": 12,
   "id": "45e7da07",
   "metadata": {},
   "outputs": [
    {
     "data": {
      "text/plain": [
       "0"
      ]
     },
     "execution_count": 12,
     "metadata": {},
     "output_type": "execute_result"
    }
   ],
   "source": [
    "df.duplicated().sum() #Checking for Duplicate values"
   ]
  },
  {
   "cell_type": "markdown",
   "id": "7a351196",
   "metadata": {},
   "source": [
    "**`Observation`** As we can notice that there are no duplicate values present and our data is having original values "
   ]
  },
  {
   "cell_type": "code",
   "execution_count": 13,
   "id": "1d3ff704",
   "metadata": {},
   "outputs": [
    {
     "data": {
      "text/plain": [
       "DosaCornerRegister    449\n",
       "CO-1                   92\n",
       "Name: Register name, dtype: int64"
      ]
     },
     "execution_count": 13,
     "metadata": {},
     "output_type": "execute_result"
    }
   ],
   "source": [
    "df['Register name'].value_counts()  "
   ]
  },
  {
   "cell_type": "markdown",
   "id": "f08c5034",
   "metadata": {},
   "source": [
    "**`Observation`** Here Above, The column ' Register Name ' has two values present in it where DosaCornerRegister has 449 values out of 541 and 92 values of CO-1, which helps us in getting the count of customer which are registered in various forms"
   ]
  },
  {
   "cell_type": "code",
   "execution_count": 14,
   "id": "c41511b2",
   "metadata": {},
   "outputs": [
    {
     "data": {
      "text/plain": [
       "([<matplotlib.patches.Wedge at 0x23cfc94dd00>,\n",
       "  <matplotlib.patches.Wedge at 0x23cfd0054c0>],\n",
       " [Text(-0.9467186738315537, 0.5601104825109278, 'DosaCornerRegister'),\n",
       "  Text(1.0327840078162405, -0.6110296172846486, 'CO-1')],\n",
       " [Text(-0.5163920039081201, 0.30551480864232416, '82.99'),\n",
       "  Text(0.6024573378928069, -0.35643394341604495, '17.01')])"
      ]
     },
     "execution_count": 14,
     "metadata": {},
     "output_type": "execute_result"
    },
    {
     "data": {
      "image/png": "[encoded data removed]",
      "text/plain": [
       "<Figure size 432x288 with 1 Axes>"
      ]
     },
     "metadata": {},
     "output_type": "display_data"
    }
   ],
   "source": [
    "values=df['Register name'].value_counts()\n",
    "labels=df['Register name'].unique().tolist()\n",
    "#add colors\n",
    "colors = ['#ff9999','#66b3ff']\n",
    "explode=(0,0.1)\n",
    "plt.pie(values, labels=labels, explode=explode, radius=1, autopct='%.2f', colors=colors)"
   ]
  },
  {
   "cell_type": "markdown",
   "id": "dd0c54cd",
   "metadata": {},
   "source": [
    "**`Observation`** Almost 83% of the data is register to DosaCornerRegister which is almost half of the customers AND 17% of the data is Registered with CO-1 "
   ]
  },
  {
   "cell_type": "code",
   "execution_count": 38,
   "id": "06888192",
   "metadata": {},
   "outputs": [
    {
     "data": {
      "text/plain": [
       "18"
      ]
     },
     "execution_count": 38,
     "metadata": {},
     "output_type": "execute_result"
    }
   ],
   "source": [
    "df['Session id'].nunique() "
   ]
  },
  {
   "cell_type": "markdown",
   "id": "03e49827",
   "metadata": {},
   "source": [
    "**`Observation`** Session Id column has 18 number of unique values "
   ]
  },
  {
   "cell_type": "code",
   "execution_count": 16,
   "id": "7ab604de",
   "metadata": {
    "scrolled": true
   },
   "outputs": [
    {
     "data": {
      "text/plain": [
       "23    75\n",
       "15    70\n",
       "16    52\n",
       "24    50\n",
       "25    45\n",
       "29    36\n",
       "30    35\n",
       "27    29\n",
       "28    26\n",
       "11    22\n",
       "20    20\n",
       "33    20\n",
       "31    18\n",
       "34    17\n",
       "35    14\n",
       "32    10\n",
       "21     1\n",
       "18     1\n",
       "Name: Session id, dtype: int64"
      ]
     },
     "execution_count": 16,
     "metadata": {},
     "output_type": "execute_result"
    }
   ],
   "source": [
    "df['Session id'].value_counts()"
   ]
  },
  {
   "cell_type": "markdown",
   "id": "a442ea41",
   "metadata": {},
   "source": [
    "**`Observation`** Session Id with No:- 23 has repeated 75 number of times in column 'Session id'"
   ]
  },
  {
   "cell_type": "code",
   "execution_count": 14,
   "id": "4bbf5dba",
   "metadata": {},
   "outputs": [
    {
     "data": {
      "text/plain": [
       "2"
      ]
     },
     "execution_count": 14,
     "metadata": {},
     "output_type": "execute_result"
    }
   ],
   "source": [
    "df['Ordertype name'].nunique()"
   ]
  },
  {
   "cell_type": "markdown",
   "id": "ee4f860d",
   "metadata": {},
   "source": [
    "**`Observation`** Here Above, The column ' Ordertype name ' has two values present in it "
   ]
  },
  {
   "cell_type": "code",
   "execution_count": 18,
   "id": "a74794a1",
   "metadata": {},
   "outputs": [
    {
     "data": {
      "text/plain": [
       "Eat in       523\n",
       "Take away     18\n",
       "Name: Ordertype name, dtype: int64"
      ]
     },
     "execution_count": 18,
     "metadata": {},
     "output_type": "execute_result"
    }
   ],
   "source": [
    "df['Ordertype name'].value_counts()"
   ]
  },
  {
   "cell_type": "markdown",
   "id": "243bf54d",
   "metadata": {},
   "source": [
    "**`Observation`** Ordertype name has 523 records where Eat in has 523 values out of 541 and 18 values of Take away, which helps us in getting the count of customer which are has choose in Eat in / Take away"
   ]
  },
  {
   "cell_type": "code",
   "execution_count": 19,
   "id": "581d3fc6",
   "metadata": {
    "scrolled": true
   },
   "outputs": [
    {
     "data": {
      "text/plain": [
       "([<matplotlib.patches.Wedge at 0x23cfd0c5bb0>,\n",
       "  <matplotlib.patches.Wedge at 0x23cfd0d12e0>],\n",
       " [Text(-1.1934505277089014, 0.12520318650635426, 'Eat in'),\n",
       "  Text(1.0939963130369281, -0.11476962604107267, 'Take away')],\n",
       " [Text(-0.6961794744968591, 0.07303519212870664, '96.67'),\n",
       "  Text(0.5967252616565062, -0.06260161420422146, '3.33')])"
      ]
     },
     "execution_count": 19,
     "metadata": {},
     "output_type": "execute_result"
    },
    {
     "data": {
      "image/png": "[encoded data removed]",
      "text/plain": [
       "<Figure size 432x288 with 1 Axes>"
      ]
     },
     "metadata": {},
     "output_type": "display_data"
    }
   ],
   "source": [
    "values=df['Ordertype name'].value_counts()\n",
    "labels=df['Ordertype name'].unique().tolist()\n",
    "#add colors\n",
    "colors = ['skyblue','Pink']\n",
    "explode=(0.1,0)\n",
    "plt.pie(values, labels=labels, explode=explode, radius=1, autopct='%.2f', colors=colors)"
   ]
  },
  {
   "cell_type": "markdown",
   "id": "14da01cc",
   "metadata": {},
   "source": [
    "**`Observation`** Almost 97% of the Customer has Dine, where as 3% of the Customer has taken away as parcel"
   ]
  },
  {
   "cell_type": "code",
   "execution_count": 20,
   "id": "c1263601",
   "metadata": {
    "scrolled": true
   },
   "outputs": [
    {
     "data": {
      "text/plain": [
       "225"
      ]
     },
     "execution_count": 20,
     "metadata": {},
     "output_type": "execute_result"
    }
   ],
   "source": [
    "df['Sale date'].nunique()"
   ]
  },
  {
   "cell_type": "markdown",
   "id": "60931d1f",
   "metadata": {},
   "source": [
    "**`Observation`**  Sales date column has 225 number of unique record where it has Date and timestamp which made the count look big, I Removed the timestamp and created a column named Date_New where it only has the date with no timestamp"
   ]
  },
  {
   "cell_type": "code",
   "execution_count": 20,
   "id": "543b2b94",
   "metadata": {},
   "outputs": [],
   "source": [
    "# convert to datetime\n",
    "df['Sale date'] = pd.to_datetime(df['Sale date'])"
   ]
  },
  {
   "cell_type": "code",
   "execution_count": 21,
   "id": "015ff97d",
   "metadata": {},
   "outputs": [
    {
     "name": "stdout",
     "output_type": "stream",
     "text": [
      "0      2022-03-06\n",
      "1      2022-03-06\n",
      "2      2022-03-06\n",
      "3      2022-03-06\n",
      "4      2022-03-06\n",
      "          ...    \n",
      "536    2022-03-19\n",
      "537    2022-03-19\n",
      "538    2022-03-19\n",
      "539    2022-03-19\n",
      "540    2022-03-19\n",
      "Name: Date_New, Length: 541, dtype: object\n"
     ]
    }
   ],
   "source": [
    "# remove time from Date and store it in a new column\n",
    "df['Date_New'] = df['Sale date'].dt.date\n",
    "# display the dataframe\n",
    "print(df['Date_New'])"
   ]
  },
  {
   "cell_type": "code",
   "execution_count": 22,
   "id": "5725681b",
   "metadata": {},
   "outputs": [
    {
     "data": {
      "text/plain": [
       "14"
      ]
     },
     "execution_count": 22,
     "metadata": {},
     "output_type": "execute_result"
    }
   ],
   "source": [
    "df['Date_New'].nunique() "
   ]
  },
  {
   "cell_type": "markdown",
   "id": "37fabfe0",
   "metadata": {},
   "source": [
    "**`Observation`** After the cleaning we can notice that the count reduced it from 255 to 14 which will helps us to grab insights like how many customers visited the restaurant on a particular date."
   ]
  },
  {
   "cell_type": "code",
   "execution_count": 24,
   "id": "8d93011b",
   "metadata": {},
   "outputs": [
    {
     "data": {
      "text/plain": [
       "<matplotlib.patches.Circle at 0x23cfc875d30>"
      ]
     },
     "execution_count": 24,
     "metadata": {},
     "output_type": "execute_result"
    },
    {
     "data": {
      "image/png": "[encoded data removed]",
      "text/plain": [
       "<Figure size 432x288 with 1 Axes>"
      ]
     },
     "metadata": {},
     "output_type": "display_data"
    }
   ],
   "source": [
    "values=df['Date_New'].value_counts()\n",
    "labels=df['Date_New'].unique().tolist()\n",
    "explode=(0.1,0,0,0,0,0,0,0,0,0,0,0,0,0)\n",
    "plt.pie(values, labels=labels, explode=explode, radius=2, autopct='%.2f')\n",
    "my_circle=plt.Circle( (0,0), 1.0, color='white')\n",
    "p=plt.gcf()\n",
    "p.gca().add_artist(my_circle)"
   ]
  },
  {
   "cell_type": "markdown",
   "id": "aaace948",
   "metadata": {},
   "source": [
    "**`Observation`** Here will can see that on 06-03-2022 we had 15.34% of customer arrived at the restaurant and just 1.85% of customer arrived at 19-03-2022"
   ]
  },
  {
   "cell_type": "code",
   "execution_count": 24,
   "id": "ca205810",
   "metadata": {},
   "outputs": [
    {
     "data": {
      "text/plain": [
       "84"
      ]
     },
     "execution_count": 24,
     "metadata": {},
     "output_type": "execute_result"
    }
   ],
   "source": [
    "df['Item name'].nunique()"
   ]
  },
  {
   "cell_type": "markdown",
   "id": "0d6b4c72",
   "metadata": {},
   "source": [
    "**`Observation`**  No of Unique values in Column Item name"
   ]
  },
  {
   "cell_type": "code",
   "execution_count": 46,
   "id": "d775364c",
   "metadata": {
    "scrolled": true
   },
   "outputs": [
    {
     "data": {
      "text/plain": [
       "Pizza dosa                53\n",
       "Plain dosa                32\n",
       "Paneer cheese             23\n",
       "Mushroom chilli cheese    19\n",
       "Schezwan butter onion     15\n",
       "Name: Item name, dtype: int64"
      ]
     },
     "execution_count": 46,
     "metadata": {},
     "output_type": "execute_result"
    }
   ],
   "source": [
    "df['Item name'].value_counts().head() "
   ]
  },
  {
   "cell_type": "markdown",
   "id": "3f8db063",
   "metadata": {},
   "source": [
    "**`Observation`** Pizza Dosa is the most popular dish which customer has often bought it "
   ]
  },
  {
   "cell_type": "code",
   "execution_count": 27,
   "id": "136f4e66",
   "metadata": {},
   "outputs": [
    {
     "data": {
      "text/plain": [
       "Schezwan butter onion     15\n",
       "Mushroom chilli cheese    19\n",
       "Paneer cheese             23\n",
       "Plain dosa                32\n",
       "Pizza dosa                53\n",
       "Name: Item name, dtype: int64"
      ]
     },
     "execution_count": 27,
     "metadata": {},
     "output_type": "execute_result"
    }
   ],
   "source": [
    "top5_dishes = df[\"Item name\"].value_counts()[:5].sort_values(ascending=True)\n",
    "top5_dishes"
   ]
  },
  {
   "cell_type": "markdown",
   "id": "2f1d073c",
   "metadata": {},
   "source": [
    "**`Observation`** Top 5 dishes of the Restaurant which customer has bought in ascending order"
   ]
  },
  {
   "cell_type": "code",
   "execution_count": 28,
   "id": "ad568f6f",
   "metadata": {},
   "outputs": [
    {
     "data": {
      "text/plain": [
       "Text(0.5, 0, 'Most Number of Frequent Dishes ')"
      ]
     },
     "execution_count": 28,
     "metadata": {},
     "output_type": "execute_result"
    },
    {
     "data": {
      "image/png": "[encoded data removed]",
      "text/plain": [
       "<Figure size 792x504 with 1 Axes>"
      ]
     },
     "metadata": {
      "needs_background": "light"
     },
     "output_type": "display_data"
    }
   ],
   "source": [
    "height = top5_dishes.values\n",
    "bars = top5_dishes.index\n",
    "y_pos = np.arange(len(bars))\n",
    "\n",
    "fig = plt.figure(figsize=[11,7], frameon=False)\n",
    "ax = fig.gca()\n",
    "ax.spines[\"top\"].set_visible(\"#424242\")\n",
    "ax.spines[\"right\"].set_visible(False)\n",
    "ax.spines[\"left\"].set_color(\"#424242\")\n",
    "ax.spines[\"bottom\"].set_color(\"#424242\")\n",
    "\n",
    "#colors = [\"green\",\"blue\",\"magenta\",\"cyan\",\"gray\"]\n",
    "#random.shuffle(colors)\n",
    "colors = [\"#f9cdac\",\"#f2a49f\",\"#ec7c92\",\"#e65586\",\"#bc438b\"]\n",
    "plt.barh(y_pos, height, color=colors)\n",
    "\n",
    "plt.xticks(color=\"#424242\")\n",
    "\n",
    "plt.yticks(y_pos, bars, color=\"#424242\")\n",
    "plt.xlabel(\"Most Number of Frequent Dishes \")"
   ]
  },
  {
   "cell_type": "markdown",
   "id": "5f3e61a3",
   "metadata": {},
   "source": [
    "**`Observation`** Top 5 No frequent dishes liked and bought by the customer where we can have a look like pizza dosa is haved by more than 50 customers and Schezwaan butter Onion by Less than 20 customers"
   ]
  },
  {
   "cell_type": "code",
   "execution_count": 29,
   "id": "8b2a50ce",
   "metadata": {},
   "outputs": [
    {
     "data": {
      "text/plain": [
       "12"
      ]
     },
     "execution_count": 29,
     "metadata": {},
     "output_type": "execute_result"
    }
   ],
   "source": [
    "df['Category name'].nunique()"
   ]
  },
  {
   "cell_type": "markdown",
   "id": "226267a9",
   "metadata": {},
   "source": [
    "**`Observation`**  No of Unique values in Column Category name"
   ]
  },
  {
   "cell_type": "code",
   "execution_count": 30,
   "id": "451eb1ff",
   "metadata": {},
   "outputs": [
    {
     "data": {
      "text/plain": [
       "Dosa Corner Doubles          78\n",
       "Dosa Corner Economy          76\n",
       "Dosa Corner Vintage          68\n",
       "Dosa Corner Special          56\n",
       "Dosa Corner Spicy            54\n",
       "Dosa Corner Single           45\n",
       "Dosa Corner Masala           42\n",
       "Dosa Corner Chilli Cheese    36\n",
       "Dosa Corner Schezwan         30\n",
       "Dosa Corner Triples          27\n",
       "Dosa Corner Combo            22\n",
       "Dosa Corner Kaju              7\n",
       "Name: Category name, dtype: int64"
      ]
     },
     "execution_count": 30,
     "metadata": {},
     "output_type": "execute_result"
    }
   ],
   "source": [
    "df['Category name'].value_counts()"
   ]
  },
  {
   "cell_type": "markdown",
   "id": "30d59ae6",
   "metadata": {},
   "source": [
    "**`Observation`** Dosa Corner Doubles is the most popular Category which customer has often bought Items from it"
   ]
  },
  {
   "cell_type": "code",
   "execution_count": 31,
   "id": "14362c98",
   "metadata": {},
   "outputs": [
    {
     "data": {
      "text/plain": [
       "Dosa Corner Spicy      54\n",
       "Dosa Corner Special    56\n",
       "Dosa Corner Vintage    68\n",
       "Dosa Corner Economy    76\n",
       "Dosa Corner Doubles    78\n",
       "Name: Category name, dtype: int64"
      ]
     },
     "execution_count": 31,
     "metadata": {},
     "output_type": "execute_result"
    }
   ],
   "source": [
    "top5_categories = df[\"Category name\"].value_counts()[:5].sort_values(ascending=True)\n",
    "top5_categories"
   ]
  },
  {
   "cell_type": "markdown",
   "id": "2a2bb95f",
   "metadata": {},
   "source": [
    "**`Observation`** Top 5 Categories of the Restaurant which customer has bought Items from it in ascending order"
   ]
  },
  {
   "cell_type": "code",
   "execution_count": 32,
   "id": "003a10e4",
   "metadata": {},
   "outputs": [
    {
     "data": {
      "text/plain": [
       "Text(0.5, 0, 'Top 5 Categories')"
      ]
     },
     "execution_count": 32,
     "metadata": {},
     "output_type": "execute_result"
    },
    {
     "data": {
      "image/png": "[encoded data removed]",
      "text/plain": [
       "<Figure size 576x360 with 1 Axes>"
      ]
     },
     "metadata": {
      "needs_background": "light"
     },
     "output_type": "display_data"
    }
   ],
   "source": [
    "height = top5_categories.values\n",
    "bars = top5_categories.index\n",
    "y_pos = np.arange(len(bars))\n",
    "\n",
    "\n",
    "fig = plt.figure(figsize=[8,5], frameon=False)\n",
    "ax = fig.gca()\n",
    "ax.spines[\"top\"].set_visible(False)\n",
    "ax.spines[\"right\"].set_visible(False)\n",
    "ax.spines[\"left\"].set_color(\"#424242\")\n",
    "ax.spines[\"bottom\"].set_color(\"#424242\")\n",
    "\n",
    "#colors = [\"green\",\"blue\",\"magenta\",\"cyan\",\"gray\",\"yellow\",\"purple\",\"violet\",\"orange\",\"red\",\"maroon\"]\n",
    "#random.shuffle(colors)\n",
    "colors = [\"#2d0f41\",'#933291',\"#e65586\",\"#f2a49f\",\"#f9cdac\"]\n",
    "plt.bar(top5_categories.index, top5_categories.values, color=colors)\n",
    "\n",
    "plt.xticks(range(0, 6), color=\"#424242\")\n",
    "plt.yticks(range(0, 100, 20), color=\"#424242\")\n",
    "plt.xlabel(\"Top 5 Categories\")"
   ]
  },
  {
   "cell_type": "markdown",
   "id": "7c959177",
   "metadata": {},
   "source": [
    "**`Observation`** Top 5 Categories which customers often liked and bought, where Dosa Corner Doubles is the category which has almost 80 customers which bought items from it"
   ]
  },
  {
   "cell_type": "code",
   "execution_count": 27,
   "id": "2db08325",
   "metadata": {},
   "outputs": [
    {
     "data": {
      "text/plain": [
       "100    186\n",
       "90     153\n",
       "80      67\n",
       "40      32\n",
       "60      31\n",
       "130     29\n",
       "140     13\n",
       "50      13\n",
       "120     10\n",
       "110      4\n",
       "70       3\n",
       "Name: Selling price, dtype: int64"
      ]
     },
     "execution_count": 27,
     "metadata": {},
     "output_type": "execute_result"
    }
   ],
   "source": [
    "df['Selling price'].value_counts()"
   ]
  },
  {
   "cell_type": "markdown",
   "id": "dce2e7a2",
   "metadata": {},
   "source": [
    "**`Observation`** 186 customers bought a dish with worth 100 rupees"
   ]
  },
  {
   "cell_type": "code",
   "execution_count": 53,
   "id": "d122dbd2",
   "metadata": {},
   "outputs": [
    {
     "data": {
      "text/plain": [
       "40"
      ]
     },
     "execution_count": 53,
     "metadata": {},
     "output_type": "execute_result"
    }
   ],
   "source": [
    "df['Selling price'].min()"
   ]
  },
  {
   "cell_type": "markdown",
   "id": "ed965fb4",
   "metadata": {},
   "source": [
    "**`Observation`** Minimun Selling Price is worth Rupees 40"
   ]
  },
  {
   "cell_type": "code",
   "execution_count": 54,
   "id": "288c8f25",
   "metadata": {},
   "outputs": [
    {
     "data": {
      "text/plain": [
       "140"
      ]
     },
     "execution_count": 54,
     "metadata": {},
     "output_type": "execute_result"
    }
   ],
   "source": [
    "df['Selling price'].max()"
   ]
  },
  {
   "cell_type": "markdown",
   "id": "f3121a94",
   "metadata": {},
   "source": [
    "**`Observation`** Maximum Selling Price is worth Rupees 140"
   ]
  },
  {
   "cell_type": "code",
   "execution_count": 34,
   "id": "87e5cd6b",
   "metadata": {},
   "outputs": [
    {
     "data": {
      "text/plain": [
       "90.49907578558225"
      ]
     },
     "execution_count": 34,
     "metadata": {},
     "output_type": "execute_result"
    }
   ],
   "source": [
    "df['Selling price'].mean() "
   ]
  },
  {
   "cell_type": "markdown",
   "id": "235fbc8e",
   "metadata": {},
   "source": [
    "**`Observation`** Average of selling price of customers is around 90 rupees"
   ]
  },
  {
   "cell_type": "code",
   "execution_count": 50,
   "id": "f42c6ceb",
   "metadata": {},
   "outputs": [
    {
     "data": {
      "text/plain": [
       "97.11645101663586"
      ]
     },
     "execution_count": 50,
     "metadata": {},
     "output_type": "execute_result"
    }
   ],
   "source": [
    "df['Item amount'].mean()"
   ]
  },
  {
   "cell_type": "markdown",
   "id": "6a2cdfd9",
   "metadata": {},
   "source": [
    "**`Observation`** Average of item amount"
   ]
  },
  {
   "cell_type": "code",
   "execution_count": 52,
   "id": "074e3bd0",
   "metadata": {},
   "outputs": [
    {
     "data": {
      "text/plain": [
       "24.34380776340111"
      ]
     },
     "execution_count": 52,
     "metadata": {},
     "output_type": "execute_result"
    }
   ],
   "source": [
    "df['Sales discount amount'].mean()"
   ]
  },
  {
   "cell_type": "markdown",
   "id": "1f241178",
   "metadata": {},
   "source": [
    "**`Observation`** Average of sales SALES DISCOUNT AMOUNT"
   ]
  },
  {
   "cell_type": "code",
   "execution_count": 29,
   "id": "e567a829",
   "metadata": {},
   "outputs": [
    {
     "data": {
      "text/plain": [
       "1    501\n",
       "2     35\n",
       "3      5\n",
       "Name: Conversion quantity, dtype: int64"
      ]
     },
     "execution_count": 29,
     "metadata": {},
     "output_type": "execute_result"
    }
   ],
   "source": [
    "df[\"Conversion quantity\"].value_counts()"
   ]
  },
  {
   "cell_type": "markdown",
   "id": "58c323d9",
   "metadata": {},
   "source": [
    "**`Observation`** In Above there is 3   5 which means that there are about 5 customer which bought an item (i.e Plain Dossa) with worth 3 quantity each"
   ]
  },
  {
   "cell_type": "markdown",
   "id": "6bfe4f9b",
   "metadata": {},
   "source": [
    "**`SUMMARY`**"
   ]
  },
  {
   "cell_type": "markdown",
   "id": "9baeac90",
   "metadata": {},
   "source": [
    "The Dataset of restaurant analysis has around about 541 rows and 17 columns. In which there are zero null values and zero duplicate values, the consist more of categorical values rather than numerical values. Here I have perform basic EDA and have tried took find insights which can help the restaurant to focus on various attributes and improve the performance based on the insights. "
   ]
  }
 ],
 "metadata": {
  "kernelspec": {
   "display_name": "Python 3 (ipykernel)",
   "language": "python",
   "name": "python3"
  },
  "language_info": {
   "codemirror_mode": {
    "name": "ipython",
    "version": 3
   },
   "file_extension": ".py",
   "mimetype": "text/x-python",
   "name": "python",
   "nbconvert_exporter": "python",
   "pygments_lexer": "ipython3",
   "version": "3.9.7"
  }
 },
 "nbformat": 4,
 "nbformat_minor": 5
}
